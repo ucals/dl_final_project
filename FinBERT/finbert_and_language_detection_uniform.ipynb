{
 "cells": [
  {
   "cell_type": "code",
   "execution_count": 1,
   "metadata": {},
   "outputs": [],
   "source": [
    "import pandas as pd\n",
    "import numpy as np\n",
    "import fasttext\n",
    "from tqdm.auto import tqdm\n",
    "import datetime"
   ]
  },
  {
   "cell_type": "markdown",
   "metadata": {},
   "source": [
    "# Step 1: Filter top 100 most liked tweets per day"
   ]
  },
  {
   "cell_type": "code",
   "execution_count": 2,
   "metadata": {},
   "outputs": [
    {
     "name": "stderr",
     "output_type": "stream",
     "text": [
      "<decorator-gen-54>:2: DtypeWarning: Columns (0,1,2,3,8) have mixed types.Specify dtype option on import or set low_memory=False.\n"
     ]
    },
    {
     "name": "stdout",
     "output_type": "stream",
     "text": [
      "18809800\n",
      "CPU times: user 1min 56s, sys: 1min 10s, total: 3min 7s\n",
      "Wall time: 3min 50s\n"
     ]
    },
    {
     "data": {
      "text/html": [
       "<div>\n",
       "<style scoped>\n",
       "    .dataframe tbody tr th:only-of-type {\n",
       "        vertical-align: middle;\n",
       "    }\n",
       "\n",
       "    .dataframe tbody tr th {\n",
       "        vertical-align: top;\n",
       "    }\n",
       "\n",
       "    .dataframe thead th {\n",
       "        text-align: right;\n",
       "    }\n",
       "</style>\n",
       "<table border=\"1\" class=\"dataframe\">\n",
       "  <thead>\n",
       "    <tr style=\"text-align: right;\">\n",
       "      <th></th>\n",
       "      <th>id</th>\n",
       "      <th>user</th>\n",
       "      <th>fullname</th>\n",
       "      <th>url</th>\n",
       "      <th>timestamp</th>\n",
       "      <th>replies</th>\n",
       "      <th>likes</th>\n",
       "      <th>retweets</th>\n",
       "      <th>text</th>\n",
       "    </tr>\n",
       "  </thead>\n",
       "  <tbody>\n",
       "    <tr>\n",
       "      <th>0</th>\n",
       "      <td>1132977055300300800</td>\n",
       "      <td>KamdemAbdiel</td>\n",
       "      <td>Abdiel kamdem</td>\n",
       "      <td>NaN</td>\n",
       "      <td>2019-05-27 11:49:14+00:00</td>\n",
       "      <td>0.0</td>\n",
       "      <td>0.0</td>\n",
       "      <td>0.0</td>\n",
       "      <td>È appena uscito un nuovo video! LES CRYPTOMONN...</td>\n",
       "    </tr>\n",
       "    <tr>\n",
       "      <th>1</th>\n",
       "      <td>1132977073402736640</td>\n",
       "      <td>bitcointe</td>\n",
       "      <td>Bitcointe</td>\n",
       "      <td>NaN</td>\n",
       "      <td>2019-05-27 11:49:18+00:00</td>\n",
       "      <td>0.0</td>\n",
       "      <td>0.0</td>\n",
       "      <td>0.0</td>\n",
       "      <td>Cardano: Digitize Currencies; EOS https://t.co...</td>\n",
       "    </tr>\n",
       "    <tr>\n",
       "      <th>2</th>\n",
       "      <td>1132977023893139456</td>\n",
       "      <td>3eyedbran</td>\n",
       "      <td>Bran - 3 Eyed Raven</td>\n",
       "      <td>NaN</td>\n",
       "      <td>2019-05-27 11:49:06+00:00</td>\n",
       "      <td>0.0</td>\n",
       "      <td>2.0</td>\n",
       "      <td>1.0</td>\n",
       "      <td>Another Test tweet that wasn't caught in the s...</td>\n",
       "    </tr>\n",
       "    <tr>\n",
       "      <th>3</th>\n",
       "      <td>1132977089089556481</td>\n",
       "      <td>DetroitCrypto</td>\n",
       "      <td>J. Scardina</td>\n",
       "      <td>NaN</td>\n",
       "      <td>2019-05-27 11:49:22+00:00</td>\n",
       "      <td>0.0</td>\n",
       "      <td>0.0</td>\n",
       "      <td>0.0</td>\n",
       "      <td>Current Crypto Prices! \\n\\nBTC: $8721.99 USD\\n...</td>\n",
       "    </tr>\n",
       "    <tr>\n",
       "      <th>4</th>\n",
       "      <td>1132977092340191232</td>\n",
       "      <td>mmursaleen72</td>\n",
       "      <td>Muhammad Mursaleen</td>\n",
       "      <td>NaN</td>\n",
       "      <td>2019-05-27 11:49:23+00:00</td>\n",
       "      <td>0.0</td>\n",
       "      <td>0.0</td>\n",
       "      <td>0.0</td>\n",
       "      <td>Spiv (Nosar Baz): BITCOIN Is An Asset &amp;amp; NO...</td>\n",
       "    </tr>\n",
       "  </tbody>\n",
       "</table>\n",
       "</div>"
      ],
      "text/plain": [
       "                    id           user             fullname  url  \\\n",
       "0  1132977055300300800   KamdemAbdiel        Abdiel kamdem  NaN   \n",
       "1  1132977073402736640      bitcointe            Bitcointe  NaN   \n",
       "2  1132977023893139456      3eyedbran  Bran - 3 Eyed Raven  NaN   \n",
       "3  1132977089089556481  DetroitCrypto          J. Scardina  NaN   \n",
       "4  1132977092340191232   mmursaleen72   Muhammad Mursaleen  NaN   \n",
       "\n",
       "                  timestamp  replies  likes  retweets  \\\n",
       "0 2019-05-27 11:49:14+00:00      0.0    0.0       0.0   \n",
       "1 2019-05-27 11:49:18+00:00      0.0    0.0       0.0   \n",
       "2 2019-05-27 11:49:06+00:00      0.0    2.0       1.0   \n",
       "3 2019-05-27 11:49:22+00:00      0.0    0.0       0.0   \n",
       "4 2019-05-27 11:49:23+00:00      0.0    0.0       0.0   \n",
       "\n",
       "                                                text  \n",
       "0  È appena uscito un nuovo video! LES CRYPTOMONN...  \n",
       "1  Cardano: Digitize Currencies; EOS https://t.co...  \n",
       "2  Another Test tweet that wasn't caught in the s...  \n",
       "3  Current Crypto Prices! \\n\\nBTC: $8721.99 USD\\n...  \n",
       "4  Spiv (Nosar Baz): BITCOIN Is An Asset &amp; NO...  "
      ]
     },
     "execution_count": 2,
     "metadata": {},
     "output_type": "execute_result"
    }
   ],
   "source": [
    "%%time\n",
    "data = pd.read_csv('../tweets.csv', sep=';', parse_dates=['timestamp'])\n",
    "# remove blank tweets\n",
    "data = data[~data['text'].isna()]\n",
    "print(len(data))\n",
    "data.head()"
   ]
  },
  {
   "cell_type": "code",
   "execution_count": 3,
   "metadata": {},
   "outputs": [
    {
     "data": {
      "text/plain": [
       "3005"
      ]
     },
     "execution_count": 3,
     "metadata": {},
     "output_type": "execute_result"
    }
   ],
   "source": [
    "df = data.copy()\n",
    "df['date'] = df['timestamp'].dt.date\n",
    "df['date'].nunique()"
   ]
  },
  {
   "cell_type": "code",
   "execution_count": 5,
   "metadata": {},
   "outputs": [],
   "source": [
    "df = df.sort_values(by=['date', 'likes'], ascending=False)"
   ]
  },
  {
   "cell_type": "code",
   "execution_count": 18,
   "metadata": {},
   "outputs": [
    {
     "data": {
      "application/vnd.jupyter.widget-view+json": {
       "model_id": "88157063bae64816b8d12eeb39268768",
       "version_major": 2,
       "version_minor": 0
      },
      "text/plain": [
       "HBox(children=(HTML(value=''), FloatProgress(value=0.0, max=3005.0), HTML(value='')))"
      ]
     },
     "metadata": {},
     "output_type": "display_data"
    },
    {
     "name": "stdout",
     "output_type": "stream",
     "text": [
      "\n",
      "266635\n",
      "CPU times: user 10.6 s, sys: 32.3 s, total: 42.9 s\n",
      "Wall time: 1min 18s\n"
     ]
    }
   ],
   "source": [
    "%%time\n",
    "max_tweets_by_date = 100\n",
    "dfs = []\n",
    "for date, group in tqdm(df.groupby('date')):\n",
    "    dfs.append(group.head(max_tweets_by_date))\n",
    "    \n",
    "dfs = pd.concat(dfs)\n",
    "print(len(dfs))\n",
    "# dfs[['id', 'date']].groupby('date').count().to_csv('summary.csv')"
   ]
  },
  {
   "cell_type": "markdown",
   "metadata": {},
   "source": [
    "# Step 2: Detect language of each tweet"
   ]
  },
  {
   "cell_type": "code",
   "execution_count": 22,
   "metadata": {},
   "outputs": [
    {
     "name": "stderr",
     "output_type": "stream",
     "text": [
      "Warning : `load_model` does not return WordVectorModel or SupervisedModel any more, but a `FastText` object which is very similar.\n"
     ]
    },
    {
     "data": {
      "text/plain": [
       "(('__label__pt',), array([0.55595934]))"
      ]
     },
     "execution_count": 22,
     "metadata": {},
     "output_type": "execute_result"
    }
   ],
   "source": [
    "path_to_pretrained_model = '../lid.176.bin'\n",
    "fmodel = fasttext.load_model(path_to_pretrained_model)\n",
    "lang, prob = fmodel.predict('testua bla bla eu')\n",
    "lang, prob"
   ]
  },
  {
   "cell_type": "code",
   "execution_count": 24,
   "metadata": {},
   "outputs": [
    {
     "data": {
      "application/vnd.jupyter.widget-view+json": {
       "model_id": "9029d447dddd4d96ab1bcec8e3eb4e51",
       "version_major": 2,
       "version_minor": 0
      },
      "text/plain": [
       "HBox(children=(HTML(value=''), FloatProgress(value=0.0, max=266635.0), HTML(value='')))"
      ]
     },
     "metadata": {},
     "output_type": "display_data"
    },
    {
     "name": "stdout",
     "output_type": "stream",
     "text": [
      "\n"
     ]
    }
   ],
   "source": [
    "dfs['language'] = ''\n",
    "dfs['probability'] = 0\n",
    "\n",
    "for index, row in tqdm(dfs.iterrows(), total=len(dfs)):\n",
    "    lang, prob = fmodel.predict(row['text'].replace('\\n',''))\n",
    "    dfs.loc[index, 'language'] = lang[0]\n",
    "    dfs.loc[index, 'probability'] = prob[0]"
   ]
  },
  {
   "cell_type": "code",
   "execution_count": 25,
   "metadata": {},
   "outputs": [
    {
     "data": {
      "text/html": [
       "<div>\n",
       "<style scoped>\n",
       "    .dataframe tbody tr th:only-of-type {\n",
       "        vertical-align: middle;\n",
       "    }\n",
       "\n",
       "    .dataframe tbody tr th {\n",
       "        vertical-align: top;\n",
       "    }\n",
       "\n",
       "    .dataframe thead th {\n",
       "        text-align: right;\n",
       "    }\n",
       "</style>\n",
       "<table border=\"1\" class=\"dataframe\">\n",
       "  <thead>\n",
       "    <tr style=\"text-align: right;\">\n",
       "      <th></th>\n",
       "      <th>id</th>\n",
       "      <th>user</th>\n",
       "      <th>fullname</th>\n",
       "      <th>url</th>\n",
       "      <th>timestamp</th>\n",
       "      <th>replies</th>\n",
       "      <th>likes</th>\n",
       "      <th>retweets</th>\n",
       "      <th>text</th>\n",
       "      <th>date</th>\n",
       "      <th>language</th>\n",
       "      <th>probability</th>\n",
       "    </tr>\n",
       "  </thead>\n",
       "  <tbody>\n",
       "    <tr>\n",
       "      <th>14404079</th>\n",
       "      <td>32867411</td>\n",
       "      <td>chrispychong</td>\n",
       "      <td>chrispy</td>\n",
       "      <td>NaN</td>\n",
       "      <td>2007-04-19 07:14:38+00:00</td>\n",
       "      <td>0.0</td>\n",
       "      <td>0.0</td>\n",
       "      <td>2.0</td>\n",
       "      <td>is happily mugging at BTC where she will hook ...</td>\n",
       "      <td>2007-04-19</td>\n",
       "      <td>__label__en</td>\n",
       "      <td>0.982041</td>\n",
       "    </tr>\n",
       "    <tr>\n",
       "      <th>21</th>\n",
       "      <td>1110302988</td>\n",
       "      <td>halfin</td>\n",
       "      <td>halfin</td>\n",
       "      <td>NaN</td>\n",
       "      <td>2009-01-11 03:33:52+00:00</td>\n",
       "      <td>790.0</td>\n",
       "      <td>14470.0</td>\n",
       "      <td>5542.0</td>\n",
       "      <td>Running bitcoin</td>\n",
       "      <td>2009-01-11</td>\n",
       "      <td>__label__en</td>\n",
       "      <td>0.276370</td>\n",
       "    </tr>\n",
       "    <tr>\n",
       "      <th>7563298</th>\n",
       "      <td>1136749815</td>\n",
       "      <td>halfin</td>\n",
       "      <td>halfin</td>\n",
       "      <td>NaN</td>\n",
       "      <td>2009-01-21 17:29:40+00:00</td>\n",
       "      <td>55.0</td>\n",
       "      <td>1544.0</td>\n",
       "      <td>392.0</td>\n",
       "      <td>Looking at ways to add more anonymity to bitcoin</td>\n",
       "      <td>2009-01-21</td>\n",
       "      <td>__label__en</td>\n",
       "      <td>0.763378</td>\n",
       "    </tr>\n",
       "    <tr>\n",
       "      <th>7609229</th>\n",
       "      <td>1153096538</td>\n",
       "      <td>halfin</td>\n",
       "      <td>halfin</td>\n",
       "      <td>NaN</td>\n",
       "      <td>2009-01-27 20:14:10+00:00</td>\n",
       "      <td>44.0</td>\n",
       "      <td>1042.0</td>\n",
       "      <td>277.0</td>\n",
       "      <td>Thinking about how to reduce CO2 emissions fro...</td>\n",
       "      <td>2009-01-27</td>\n",
       "      <td>__label__en</td>\n",
       "      <td>0.880000</td>\n",
       "    </tr>\n",
       "    <tr>\n",
       "      <th>7668664</th>\n",
       "      <td>1158416742</td>\n",
       "      <td>fafcffacfff</td>\n",
       "      <td>GoldLover</td>\n",
       "      <td>NaN</td>\n",
       "      <td>2009-01-29 13:37:53+00:00</td>\n",
       "      <td>0.0</td>\n",
       "      <td>28.0</td>\n",
       "      <td>16.0</td>\n",
       "      <td>From: Satoshi Nakamoto - 2009-01-11 22:32 Bitc...</td>\n",
       "      <td>2009-01-29</td>\n",
       "      <td>__label__en</td>\n",
       "      <td>0.615885</td>\n",
       "    </tr>\n",
       "  </tbody>\n",
       "</table>\n",
       "</div>"
      ],
      "text/plain": [
       "                  id          user   fullname  url                 timestamp  \\\n",
       "14404079    32867411  chrispychong    chrispy  NaN 2007-04-19 07:14:38+00:00   \n",
       "21        1110302988        halfin     halfin  NaN 2009-01-11 03:33:52+00:00   \n",
       "7563298   1136749815        halfin     halfin  NaN 2009-01-21 17:29:40+00:00   \n",
       "7609229   1153096538        halfin     halfin  NaN 2009-01-27 20:14:10+00:00   \n",
       "7668664   1158416742   fafcffacfff  GoldLover  NaN 2009-01-29 13:37:53+00:00   \n",
       "\n",
       "          replies    likes  retweets  \\\n",
       "14404079      0.0      0.0       2.0   \n",
       "21          790.0  14470.0    5542.0   \n",
       "7563298      55.0   1544.0     392.0   \n",
       "7609229      44.0   1042.0     277.0   \n",
       "7668664       0.0     28.0      16.0   \n",
       "\n",
       "                                                       text        date  \\\n",
       "14404079  is happily mugging at BTC where she will hook ...  2007-04-19   \n",
       "21                                          Running bitcoin  2009-01-11   \n",
       "7563298    Looking at ways to add more anonymity to bitcoin  2009-01-21   \n",
       "7609229   Thinking about how to reduce CO2 emissions fro...  2009-01-27   \n",
       "7668664   From: Satoshi Nakamoto - 2009-01-11 22:32 Bitc...  2009-01-29   \n",
       "\n",
       "             language  probability  \n",
       "14404079  __label__en     0.982041  \n",
       "21        __label__en     0.276370  \n",
       "7563298   __label__en     0.763378  \n",
       "7609229   __label__en     0.880000  \n",
       "7668664   __label__en     0.615885  "
      ]
     },
     "execution_count": 25,
     "metadata": {},
     "output_type": "execute_result"
    }
   ],
   "source": [
    "dfs.head()"
   ]
  },
  {
   "cell_type": "code",
   "execution_count": 26,
   "metadata": {},
   "outputs": [
    {
     "data": {
      "text/plain": [
       "__label__en     237582\n",
       "__label__ja      11886\n",
       "__label__pt       2848\n",
       "__label__es       2840\n",
       "__label__tr       2820\n",
       "                 ...  \n",
       "__label__ro          1\n",
       "__label__nn          1\n",
       "__label__vec         1\n",
       "__label__ckb         1\n",
       "__label__ilo         1\n",
       "Name: language, Length: 61, dtype: int64"
      ]
     },
     "execution_count": 26,
     "metadata": {},
     "output_type": "execute_result"
    }
   ],
   "source": [
    "dfs['language'].value_counts()"
   ]
  },
  {
   "cell_type": "code",
   "execution_count": 27,
   "metadata": {},
   "outputs": [],
   "source": [
    "dfs[dfs['language'] == '__label__en'].to_csv('../tweets_top100perday_eng.csv', index=False)\n",
    "df2 = dfs[dfs['language'] == '__label__en']"
   ]
  },
  {
   "cell_type": "markdown",
   "metadata": {},
   "source": [
    "# Step 3: Generate sentiment scores"
   ]
  },
  {
   "cell_type": "code",
   "execution_count": null,
   "metadata": {},
   "outputs": [],
   "source": [
    "import torch\n",
    "import torch.nn.functional as F\n",
    "from pytorch_pretrained_bert import BertTokenizer\n",
    "from bertModel import BertClassification\n",
    "import pandas as pd\n",
    "import numpy as np\n",
    "from tqdm.auto import tqdm"
   ]
  },
  {
   "cell_type": "code",
   "execution_count": null,
   "metadata": {},
   "outputs": [],
   "source": [
    "labels = {0:'neutral', 1:'positive',2:'negative'}\n",
    "num_labels= len(labels)\n",
    "vocab = \"finance-uncased\"\n",
    "vocab_path = 'analyst_tone/vocab'\n",
    "pretrained_weights_path = \"analyst_tone/pretrained_weights\" # this is pre-trained FinBERT weights\n",
    "fine_tuned_weight_path = \"analyst_tone/fine_tuned.pth\"      # this is fine-tuned FinBERT weights\n",
    "max_seq_length=512\n",
    "device='cuda'\n",
    "tokenizer = BertTokenizer(vocab_file = vocab_path, do_lower_case = True, do_basic_tokenize = True)"
   ]
  },
  {
   "cell_type": "code",
   "execution_count": null,
   "metadata": {},
   "outputs": [],
   "source": [
    "model = BertClassification(weight_path= pretrained_weights_path, num_labels=num_labels, vocab=vocab)\n",
    "model.load_state_dict(torch.load(fine_tuned_weight_path, map_location=torch.device(device)))\n",
    "model.to(device);\n",
    "model.eval();"
   ]
  },
  {
   "cell_type": "code",
   "execution_count": null,
   "metadata": {},
   "outputs": [],
   "source": [
    "for index, row in tqdm(df2.iterrows(), total=len(df2)):\n",
    "    sent = row['text']\n",
    "    tokenized_sent = tokenizer.tokenize(sent)\n",
    "    if len(tokenized_sent) > max_seq_length:\n",
    "        tokenized_sent = tokenized_sent[:max_seq_length]\n",
    "    \n",
    "    ids_review  = tokenizer.convert_tokens_to_ids(tokenized_sent)\n",
    "    mask_input = [1]*len(ids_review)        \n",
    "    padding = [0] * (max_seq_length - len(ids_review))\n",
    "    ids_review += padding\n",
    "    mask_input += padding\n",
    "    input_type = [0]*max_seq_length\n",
    "    \n",
    "    input_ids = torch.tensor(ids_review).to(device).reshape(-1, max_seq_length)\n",
    "    attention_mask =  torch.tensor(mask_input).to(device).reshape(-1, max_seq_length)\n",
    "    token_type_ids = torch.tensor(input_type).to(device).reshape(-1, max_seq_length)\n",
    "    \n",
    "    with torch.set_grad_enabled(False):\n",
    "        # TODO save raw scores instead of labels\n",
    "        outputs = model(input_ids, token_type_ids, attention_mask)\n",
    "        outputs = F.softmax(outputs,dim=1)\n",
    "        df2.loc[index, 'sentiment'] = labels[torch.argmax(outputs).item()]"
   ]
  },
  {
   "cell_type": "code",
   "execution_count": null,
   "metadata": {},
   "outputs": [],
   "source": [
    "df2.head()"
   ]
  },
  {
   "cell_type": "code",
   "execution_count": null,
   "metadata": {},
   "outputs": [],
   "source": [
    "df2.to_csv('../tweets_20likes_eng_processed.csv', index=False)"
   ]
  },
  {
   "cell_type": "markdown",
   "metadata": {},
   "source": [
    "# Step 4: "
   ]
  },
  {
   "cell_type": "code",
   "execution_count": null,
   "metadata": {},
   "outputs": [],
   "source": []
  },
  {
   "cell_type": "code",
   "execution_count": null,
   "metadata": {},
   "outputs": [],
   "source": []
  },
  {
   "cell_type": "code",
   "execution_count": null,
   "metadata": {},
   "outputs": [],
   "source": []
  }
 ],
 "metadata": {
  "kernelspec": {
   "display_name": "Python 3",
   "language": "python",
   "name": "python3"
  },
  "language_info": {
   "codemirror_mode": {
    "name": "ipython",
    "version": 3
   },
   "file_extension": ".py",
   "mimetype": "text/x-python",
   "name": "python",
   "nbconvert_exporter": "python",
   "pygments_lexer": "ipython3",
   "version": "3.8.5"
  }
 },
 "nbformat": 4,
 "nbformat_minor": 4
}
