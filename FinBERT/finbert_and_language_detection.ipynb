{
 "cells": [
  {
   "cell_type": "code",
   "execution_count": 14,
   "metadata": {},
   "outputs": [],
   "source": [
    "import pandas as pd\n",
    "import numpy as np\n",
    "import fasttext\n",
    "from tqdm.auto import tqdm"
   ]
  },
  {
   "cell_type": "code",
   "execution_count": 9,
   "metadata": {},
   "outputs": [
    {
     "name": "stderr",
     "output_type": "stream",
     "text": [
      "Warning : `load_model` does not return WordVectorModel or SupervisedModel any more, but a `FastText` object which is very similar.\n"
     ]
    }
   ],
   "source": [
    "path_to_pretrained_model = '../lid.176.bin'\n",
    "fmodel = fasttext.load_model(path_to_pretrained_model)\n",
    "lang, prob = fmodel.predict('testua bla bla eu')  # ([['__label__en']], [array([0.9331119], dtype=float32)]"
   ]
  },
  {
   "cell_type": "code",
   "execution_count": 8,
   "metadata": {},
   "outputs": [
    {
     "name": "stderr",
     "output_type": "stream",
     "text": [
      "/home/ubuntu/anaconda3/lib/python3.8/site-packages/decorator.py:231: DtypeWarning: Columns (0,1,2,3,8) have mixed types.Specify dtype option on import or set low_memory=False.\n",
      "  return caller(func, *(extras + args), **kw)\n"
     ]
    },
    {
     "name": "stdout",
     "output_type": "stream",
     "text": [
      "18809800\n",
      "CPU times: user 2min 28s, sys: 9.31 s, total: 2min 37s\n",
      "Wall time: 2min 37s\n"
     ]
    },
    {
     "data": {
      "text/html": [
       "<div>\n",
       "<style scoped>\n",
       "    .dataframe tbody tr th:only-of-type {\n",
       "        vertical-align: middle;\n",
       "    }\n",
       "\n",
       "    .dataframe tbody tr th {\n",
       "        vertical-align: top;\n",
       "    }\n",
       "\n",
       "    .dataframe thead th {\n",
       "        text-align: right;\n",
       "    }\n",
       "</style>\n",
       "<table border=\"1\" class=\"dataframe\">\n",
       "  <thead>\n",
       "    <tr style=\"text-align: right;\">\n",
       "      <th></th>\n",
       "      <th>id</th>\n",
       "      <th>user</th>\n",
       "      <th>fullname</th>\n",
       "      <th>url</th>\n",
       "      <th>timestamp</th>\n",
       "      <th>replies</th>\n",
       "      <th>likes</th>\n",
       "      <th>retweets</th>\n",
       "      <th>text</th>\n",
       "    </tr>\n",
       "  </thead>\n",
       "  <tbody>\n",
       "    <tr>\n",
       "      <th>0</th>\n",
       "      <td>1132977055300300800</td>\n",
       "      <td>KamdemAbdiel</td>\n",
       "      <td>Abdiel kamdem</td>\n",
       "      <td>NaN</td>\n",
       "      <td>2019-05-27 11:49:14+00:00</td>\n",
       "      <td>0.0</td>\n",
       "      <td>0.0</td>\n",
       "      <td>0.0</td>\n",
       "      <td>È appena uscito un nuovo video! LES CRYPTOMONN...</td>\n",
       "    </tr>\n",
       "    <tr>\n",
       "      <th>1</th>\n",
       "      <td>1132977073402736640</td>\n",
       "      <td>bitcointe</td>\n",
       "      <td>Bitcointe</td>\n",
       "      <td>NaN</td>\n",
       "      <td>2019-05-27 11:49:18+00:00</td>\n",
       "      <td>0.0</td>\n",
       "      <td>0.0</td>\n",
       "      <td>0.0</td>\n",
       "      <td>Cardano: Digitize Currencies; EOS https://t.co...</td>\n",
       "    </tr>\n",
       "    <tr>\n",
       "      <th>2</th>\n",
       "      <td>1132977023893139456</td>\n",
       "      <td>3eyedbran</td>\n",
       "      <td>Bran - 3 Eyed Raven</td>\n",
       "      <td>NaN</td>\n",
       "      <td>2019-05-27 11:49:06+00:00</td>\n",
       "      <td>0.0</td>\n",
       "      <td>2.0</td>\n",
       "      <td>1.0</td>\n",
       "      <td>Another Test tweet that wasn't caught in the s...</td>\n",
       "    </tr>\n",
       "    <tr>\n",
       "      <th>3</th>\n",
       "      <td>1132977089089556481</td>\n",
       "      <td>DetroitCrypto</td>\n",
       "      <td>J. Scardina</td>\n",
       "      <td>NaN</td>\n",
       "      <td>2019-05-27 11:49:22+00:00</td>\n",
       "      <td>0.0</td>\n",
       "      <td>0.0</td>\n",
       "      <td>0.0</td>\n",
       "      <td>Current Crypto Prices! \\n\\nBTC: $8721.99 USD\\n...</td>\n",
       "    </tr>\n",
       "    <tr>\n",
       "      <th>4</th>\n",
       "      <td>1132977092340191232</td>\n",
       "      <td>mmursaleen72</td>\n",
       "      <td>Muhammad Mursaleen</td>\n",
       "      <td>NaN</td>\n",
       "      <td>2019-05-27 11:49:23+00:00</td>\n",
       "      <td>0.0</td>\n",
       "      <td>0.0</td>\n",
       "      <td>0.0</td>\n",
       "      <td>Spiv (Nosar Baz): BITCOIN Is An Asset &amp;amp; NO...</td>\n",
       "    </tr>\n",
       "  </tbody>\n",
       "</table>\n",
       "</div>"
      ],
      "text/plain": [
       "                    id           user             fullname  url  \\\n",
       "0  1132977055300300800   KamdemAbdiel        Abdiel kamdem  NaN   \n",
       "1  1132977073402736640      bitcointe            Bitcointe  NaN   \n",
       "2  1132977023893139456      3eyedbran  Bran - 3 Eyed Raven  NaN   \n",
       "3  1132977089089556481  DetroitCrypto          J. Scardina  NaN   \n",
       "4  1132977092340191232   mmursaleen72   Muhammad Mursaleen  NaN   \n",
       "\n",
       "                  timestamp  replies  likes  retweets  \\\n",
       "0 2019-05-27 11:49:14+00:00      0.0    0.0       0.0   \n",
       "1 2019-05-27 11:49:18+00:00      0.0    0.0       0.0   \n",
       "2 2019-05-27 11:49:06+00:00      0.0    2.0       1.0   \n",
       "3 2019-05-27 11:49:22+00:00      0.0    0.0       0.0   \n",
       "4 2019-05-27 11:49:23+00:00      0.0    0.0       0.0   \n",
       "\n",
       "                                                text  \n",
       "0  È appena uscito un nuovo video! LES CRYPTOMONN...  \n",
       "1  Cardano: Digitize Currencies; EOS https://t.co...  \n",
       "2  Another Test tweet that wasn't caught in the s...  \n",
       "3  Current Crypto Prices! \\n\\nBTC: $8721.99 USD\\n...  \n",
       "4  Spiv (Nosar Baz): BITCOIN Is An Asset &amp; NO...  "
      ]
     },
     "execution_count": 8,
     "metadata": {},
     "output_type": "execute_result"
    }
   ],
   "source": [
    "%%time\n",
    "data = pd.read_csv('../tweets.csv', sep=';', parse_dates=['timestamp'])\n",
    "# remove blank tweets\n",
    "data = data[~data['text'].isna()]\n",
    "print(len(data))\n",
    "data.head()"
   ]
  },
  {
   "cell_type": "code",
   "execution_count": 31,
   "metadata": {},
   "outputs": [
    {
     "name": "stdout",
     "output_type": "stream",
     "text": [
      "284466\n"
     ]
    },
    {
     "name": "stderr",
     "output_type": "stream",
     "text": [
      "<ipython-input-31-a800604a4e1c>:3: SettingWithCopyWarning: \n",
      "A value is trying to be set on a copy of a slice from a DataFrame.\n",
      "Try using .loc[row_indexer,col_indexer] = value instead\n",
      "\n",
      "See the caveats in the documentation: https://pandas.pydata.org/pandas-docs/stable/user_guide/indexing.html#returning-a-view-versus-a-copy\n",
      "  df['sentiment'] = ''\n"
     ]
    }
   ],
   "source": [
    "# only tweets with +20 likes\n",
    "df = data[data['likes'] > 20]\n",
    "df['sentiment'] = ''\n",
    "print(len(df))"
   ]
  },
  {
   "cell_type": "code",
   "execution_count": 32,
   "metadata": {},
   "outputs": [
    {
     "name": "stderr",
     "output_type": "stream",
     "text": [
      "<ipython-input-32-c864af86ab2e>:1: SettingWithCopyWarning: \n",
      "A value is trying to be set on a copy of a slice from a DataFrame.\n",
      "Try using .loc[row_indexer,col_indexer] = value instead\n",
      "\n",
      "See the caveats in the documentation: https://pandas.pydata.org/pandas-docs/stable/user_guide/indexing.html#returning-a-view-versus-a-copy\n",
      "  df['language'] = ''\n",
      "<ipython-input-32-c864af86ab2e>:2: SettingWithCopyWarning: \n",
      "A value is trying to be set on a copy of a slice from a DataFrame.\n",
      "Try using .loc[row_indexer,col_indexer] = value instead\n",
      "\n",
      "See the caveats in the documentation: https://pandas.pydata.org/pandas-docs/stable/user_guide/indexing.html#returning-a-view-versus-a-copy\n",
      "  df['probability'] = 0\n"
     ]
    },
    {
     "data": {
      "application/vnd.jupyter.widget-view+json": {
       "model_id": "f28cd589532b4019a5090443b58d783c",
       "version_major": 2,
       "version_minor": 0
      },
      "text/plain": [
       "  0%|          | 0/284466 [00:00<?, ?it/s]"
      ]
     },
     "metadata": {},
     "output_type": "display_data"
    },
    {
     "name": "stderr",
     "output_type": "stream",
     "text": [
      "/home/ubuntu/anaconda3/lib/python3.8/site-packages/pandas/core/indexing.py:1720: SettingWithCopyWarning: \n",
      "A value is trying to be set on a copy of a slice from a DataFrame.\n",
      "Try using .loc[row_indexer,col_indexer] = value instead\n",
      "\n",
      "See the caveats in the documentation: https://pandas.pydata.org/pandas-docs/stable/user_guide/indexing.html#returning-a-view-versus-a-copy\n",
      "  self._setitem_single_column(loc, value, pi)\n"
     ]
    }
   ],
   "source": [
    "df['language'] = ''\n",
    "df['probability'] = 0\n",
    "\n",
    "for index, row in tqdm(df.iterrows(), total=len(df)):\n",
    "    lang, prob = fmodel.predict(row['text'].replace('\\n',''))\n",
    "    df.loc[index, 'language'] = lang[0]\n",
    "    df.loc[index, 'probability'] = prob[0]"
   ]
  },
  {
   "cell_type": "code",
   "execution_count": 34,
   "metadata": {},
   "outputs": [
    {
     "data": {
      "text/plain": [
       "__label__en    230314\n",
       "__label__tr     28322\n",
       "__label__ja     15411\n",
       "__label__es      3478\n",
       "__label__pt      1546\n",
       "                ...  \n",
       "__label__kn         1\n",
       "__label__gd         1\n",
       "__label__bn         1\n",
       "__label__nn         1\n",
       "__label__ht         1\n",
       "Name: language, Length: 68, dtype: int64"
      ]
     },
     "execution_count": 34,
     "metadata": {},
     "output_type": "execute_result"
    }
   ],
   "source": [
    "df['language'].value_counts()"
   ]
  },
  {
   "cell_type": "code",
   "execution_count": 36,
   "metadata": {},
   "outputs": [],
   "source": [
    "df[df['language'] == '__label__en'].to_csv('tweets_20likes_eng.csv', index=False)"
   ]
  },
  {
   "cell_type": "code",
   "execution_count": 37,
   "metadata": {},
   "outputs": [],
   "source": [
    "df2 = df[df['language'] == '__label__en']"
   ]
  },
  {
   "cell_type": "code",
   "execution_count": 38,
   "metadata": {},
   "outputs": [],
   "source": [
    "import torch\n",
    "import torch.nn.functional as F\n",
    "from pytorch_pretrained_bert import BertTokenizer\n",
    "from bertModel import BertClassification\n",
    "import pandas as pd\n",
    "import numpy as np\n",
    "from tqdm.auto import tqdm"
   ]
  },
  {
   "cell_type": "code",
   "execution_count": 39,
   "metadata": {},
   "outputs": [],
   "source": [
    "labels = {0:'neutral', 1:'positive',2:'negative'}\n",
    "num_labels= len(labels)\n",
    "vocab = \"finance-uncased\"\n",
    "vocab_path = 'analyst_tone/vocab'\n",
    "pretrained_weights_path = \"analyst_tone/pretrained_weights\" # this is pre-trained FinBERT weights\n",
    "fine_tuned_weight_path = \"analyst_tone/fine_tuned.pth\"      # this is fine-tuned FinBERT weights\n",
    "max_seq_length=512\n",
    "device='cuda'\n",
    "tokenizer = BertTokenizer(vocab_file = vocab_path, do_lower_case = True, do_basic_tokenize = True)"
   ]
  },
  {
   "cell_type": "code",
   "execution_count": 40,
   "metadata": {},
   "outputs": [
    {
     "name": "stderr",
     "output_type": "stream",
     "text": [
      "/home/ubuntu/dl_final_project/FinBERT/bertModel.py:31: UserWarning: nn.init.xavier_normal is now deprecated in favor of nn.init.xavier_normal_.\n",
      "  nn.init.xavier_normal(self.classifier.weight)\n"
     ]
    }
   ],
   "source": [
    "model = BertClassification(weight_path= pretrained_weights_path, num_labels=num_labels, vocab=vocab)\n",
    "model.load_state_dict(torch.load(fine_tuned_weight_path, map_location=torch.device(device)))\n",
    "model.to(device);\n",
    "model.eval();"
   ]
  },
  {
   "cell_type": "code",
   "execution_count": 41,
   "metadata": {},
   "outputs": [
    {
     "data": {
      "application/vnd.jupyter.widget-view+json": {
       "model_id": "a1ce30c206da4a028e7a45fb7f52d2f4",
       "version_major": 2,
       "version_minor": 0
      },
      "text/plain": [
       "  0%|          | 0/230314 [00:00<?, ?it/s]"
      ]
     },
     "metadata": {},
     "output_type": "display_data"
    },
    {
     "name": "stderr",
     "output_type": "stream",
     "text": [
      "/home/ubuntu/anaconda3/lib/python3.8/site-packages/pandas/core/indexing.py:1720: SettingWithCopyWarning: \n",
      "A value is trying to be set on a copy of a slice from a DataFrame.\n",
      "Try using .loc[row_indexer,col_indexer] = value instead\n",
      "\n",
      "See the caveats in the documentation: https://pandas.pydata.org/pandas-docs/stable/user_guide/indexing.html#returning-a-view-versus-a-copy\n",
      "  self._setitem_single_column(loc, value, pi)\n"
     ]
    }
   ],
   "source": [
    "for index, row in tqdm(df2.iterrows(), total=len(df2)):\n",
    "    sent = row['text']\n",
    "    tokenized_sent = tokenizer.tokenize(sent)\n",
    "    if len(tokenized_sent) > max_seq_length:\n",
    "        tokenized_sent = tokenized_sent[:max_seq_length]\n",
    "    \n",
    "    ids_review  = tokenizer.convert_tokens_to_ids(tokenized_sent)\n",
    "    mask_input = [1]*len(ids_review)        \n",
    "    padding = [0] * (max_seq_length - len(ids_review))\n",
    "    ids_review += padding\n",
    "    mask_input += padding\n",
    "    input_type = [0]*max_seq_length\n",
    "    \n",
    "    input_ids = torch.tensor(ids_review).to(device).reshape(-1, max_seq_length)\n",
    "    attention_mask =  torch.tensor(mask_input).to(device).reshape(-1, max_seq_length)\n",
    "    token_type_ids = torch.tensor(input_type).to(device).reshape(-1, max_seq_length)\n",
    "    \n",
    "    with torch.set_grad_enabled(False):\n",
    "        outputs = model(input_ids, token_type_ids, attention_mask)\n",
    "        outputs = F.softmax(outputs,dim=1)\n",
    "        df2.loc[index, 'sentiment'] = labels[torch.argmax(outputs).item()]"
   ]
  },
  {
   "cell_type": "code",
   "execution_count": 42,
   "metadata": {},
   "outputs": [
    {
     "data": {
      "text/html": [
       "<div>\n",
       "<style scoped>\n",
       "    .dataframe tbody tr th:only-of-type {\n",
       "        vertical-align: middle;\n",
       "    }\n",
       "\n",
       "    .dataframe tbody tr th {\n",
       "        vertical-align: top;\n",
       "    }\n",
       "\n",
       "    .dataframe thead th {\n",
       "        text-align: right;\n",
       "    }\n",
       "</style>\n",
       "<table border=\"1\" class=\"dataframe\">\n",
       "  <thead>\n",
       "    <tr style=\"text-align: right;\">\n",
       "      <th></th>\n",
       "      <th>id</th>\n",
       "      <th>user</th>\n",
       "      <th>fullname</th>\n",
       "      <th>url</th>\n",
       "      <th>timestamp</th>\n",
       "      <th>replies</th>\n",
       "      <th>likes</th>\n",
       "      <th>retweets</th>\n",
       "      <th>text</th>\n",
       "      <th>language</th>\n",
       "      <th>probability</th>\n",
       "      <th>sentiment</th>\n",
       "    </tr>\n",
       "  </thead>\n",
       "  <tbody>\n",
       "    <tr>\n",
       "      <th>11</th>\n",
       "      <td>1130878355375501313</td>\n",
       "      <td>giving_airdrops</td>\n",
       "      <td>Daily_Airdrops</td>\n",
       "      <td>NaN</td>\n",
       "      <td>2019-05-21 16:49:45+00:00</td>\n",
       "      <td>47.0</td>\n",
       "      <td>81.0</td>\n",
       "      <td>84.0</td>\n",
       "      <td>BTC IS STILL GOING STRONG!!\\n\\nThus, we are gi...</td>\n",
       "      <td>__label__en</td>\n",
       "      <td>0.589066</td>\n",
       "      <td>positive</td>\n",
       "    </tr>\n",
       "    <tr>\n",
       "      <th>14</th>\n",
       "      <td>1132922663113023489</td>\n",
       "      <td>CCNMarkets</td>\n",
       "      <td>CCN.com</td>\n",
       "      <td>NaN</td>\n",
       "      <td>2019-05-27 08:13:06+00:00</td>\n",
       "      <td>5.0</td>\n",
       "      <td>167.0</td>\n",
       "      <td>68.0</td>\n",
       "      <td>Bitcoin Price Hits $8,939 in New 2019 High: Wh...</td>\n",
       "      <td>__label__en</td>\n",
       "      <td>0.627685</td>\n",
       "      <td>neutral</td>\n",
       "    </tr>\n",
       "    <tr>\n",
       "      <th>19</th>\n",
       "      <td>1132927455985979393</td>\n",
       "      <td>giving_airdrops</td>\n",
       "      <td>Daily_Airdrops</td>\n",
       "      <td>NaN</td>\n",
       "      <td>2019-05-27 08:32:08+00:00</td>\n",
       "      <td>14.0</td>\n",
       "      <td>40.0</td>\n",
       "      <td>39.0</td>\n",
       "      <td>BTC IS GOING CRAZYYY!\\n\\nThus, we are giving a...</td>\n",
       "      <td>__label__en</td>\n",
       "      <td>0.623620</td>\n",
       "      <td>neutral</td>\n",
       "    </tr>\n",
       "    <tr>\n",
       "      <th>20</th>\n",
       "      <td>1132752137581203456</td>\n",
       "      <td>BerlyChain</td>\n",
       "      <td>Berly Chain</td>\n",
       "      <td>NaN</td>\n",
       "      <td>2019-05-26 20:55:29+00:00</td>\n",
       "      <td>1.0</td>\n",
       "      <td>28.0</td>\n",
       "      <td>4.0</td>\n",
       "      <td>$HOT $HOT $HOT 🍀\\n\\n🚀🚀🚀🚀🚀\\n\\n🔥🔥🔥🔥🔥 https://t.c...</td>\n",
       "      <td>__label__en</td>\n",
       "      <td>0.832325</td>\n",
       "      <td>neutral</td>\n",
       "    </tr>\n",
       "    <tr>\n",
       "      <th>21</th>\n",
       "      <td>1110302988</td>\n",
       "      <td>halfin</td>\n",
       "      <td>halfin</td>\n",
       "      <td>NaN</td>\n",
       "      <td>2009-01-11 03:33:52+00:00</td>\n",
       "      <td>790.0</td>\n",
       "      <td>14470.0</td>\n",
       "      <td>5542.0</td>\n",
       "      <td>Running bitcoin</td>\n",
       "      <td>__label__en</td>\n",
       "      <td>0.276370</td>\n",
       "      <td>neutral</td>\n",
       "    </tr>\n",
       "    <tr>\n",
       "      <th>...</th>\n",
       "      <td>...</td>\n",
       "      <td>...</td>\n",
       "      <td>...</td>\n",
       "      <td>...</td>\n",
       "      <td>...</td>\n",
       "      <td>...</td>\n",
       "      <td>...</td>\n",
       "      <td>...</td>\n",
       "      <td>...</td>\n",
       "      <td>...</td>\n",
       "      <td>...</td>\n",
       "      <td>...</td>\n",
       "    </tr>\n",
       "    <tr>\n",
       "      <th>690</th>\n",
       "      <td>1126565574891528192</td>\n",
       "      <td>CalvinAyre</td>\n",
       "      <td>Calvin Ayre</td>\n",
       "      <td>NaN</td>\n",
       "      <td>2019-05-10 11:22:26+00:00</td>\n",
       "      <td>24.0</td>\n",
       "      <td>81.0</td>\n",
       "      <td>12.0</td>\n",
       "      <td>hahaha....here is my view of the industry for ...</td>\n",
       "      <td>__label__en</td>\n",
       "      <td>0.844503</td>\n",
       "      <td>neutral</td>\n",
       "    </tr>\n",
       "    <tr>\n",
       "      <th>693</th>\n",
       "      <td>1132918100481986560</td>\n",
       "      <td>GoldenFarm12</td>\n",
       "      <td>Golden Farm Giveaways &amp; Make Money Game</td>\n",
       "      <td>NaN</td>\n",
       "      <td>2019-05-27 07:54:58+00:00</td>\n",
       "      <td>48.0</td>\n",
       "      <td>54.0</td>\n",
       "      <td>59.0</td>\n",
       "      <td>💸[BTC] Bitcoin Giveaway 1.5 Bitcoin\\nName: Bit...</td>\n",
       "      <td>__label__en</td>\n",
       "      <td>0.538141</td>\n",
       "      <td>neutral</td>\n",
       "    </tr>\n",
       "    <tr>\n",
       "      <th>694</th>\n",
       "      <td>1132740804374663168</td>\n",
       "      <td>CCNMarkets</td>\n",
       "      <td>CCN.com</td>\n",
       "      <td>NaN</td>\n",
       "      <td>2019-05-26 20:10:27+00:00</td>\n",
       "      <td>26.0</td>\n",
       "      <td>761.0</td>\n",
       "      <td>290.0</td>\n",
       "      <td>Bitcoin Price Slays $8750, Hits 12-Month High ...</td>\n",
       "      <td>__label__en</td>\n",
       "      <td>0.539955</td>\n",
       "      <td>neutral</td>\n",
       "    </tr>\n",
       "    <tr>\n",
       "      <th>714</th>\n",
       "      <td>1132676199296196609</td>\n",
       "      <td>blockbarrister</td>\n",
       "      <td>Blockchain Barrister⚡️🇬🇧</td>\n",
       "      <td>NaN</td>\n",
       "      <td>2019-05-26 15:53:44+00:00</td>\n",
       "      <td>3.0</td>\n",
       "      <td>65.0</td>\n",
       "      <td>48.0</td>\n",
       "      <td>People like Vayes completely ignore the facts....</td>\n",
       "      <td>__label__en</td>\n",
       "      <td>0.872216</td>\n",
       "      <td>neutral</td>\n",
       "    </tr>\n",
       "    <tr>\n",
       "      <th>715</th>\n",
       "      <td>1132841577133608960</td>\n",
       "      <td>TiKawamoto</td>\n",
       "      <td>Ti Kawamoto⚡🎉</td>\n",
       "      <td>NaN</td>\n",
       "      <td>2019-05-27 02:50:53+00:00</td>\n",
       "      <td>17.0</td>\n",
       "      <td>208.0</td>\n",
       "      <td>34.0</td>\n",
       "      <td>$100k in 2019 is still in play #citadellife\\n\\...</td>\n",
       "      <td>__label__en</td>\n",
       "      <td>0.721943</td>\n",
       "      <td>neutral</td>\n",
       "    </tr>\n",
       "  </tbody>\n",
       "</table>\n",
       "<p>100 rows × 12 columns</p>\n",
       "</div>"
      ],
      "text/plain": [
       "                      id             user  \\\n",
       "11   1130878355375501313  giving_airdrops   \n",
       "14   1132922663113023489       CCNMarkets   \n",
       "19   1132927455985979393  giving_airdrops   \n",
       "20   1132752137581203456       BerlyChain   \n",
       "21            1110302988           halfin   \n",
       "..                   ...              ...   \n",
       "690  1126565574891528192       CalvinAyre   \n",
       "693  1132918100481986560     GoldenFarm12   \n",
       "694  1132740804374663168       CCNMarkets   \n",
       "714  1132676199296196609   blockbarrister   \n",
       "715  1132841577133608960       TiKawamoto   \n",
       "\n",
       "                                    fullname  url                 timestamp  \\\n",
       "11                            Daily_Airdrops  NaN 2019-05-21 16:49:45+00:00   \n",
       "14                                   CCN.com  NaN 2019-05-27 08:13:06+00:00   \n",
       "19                            Daily_Airdrops  NaN 2019-05-27 08:32:08+00:00   \n",
       "20                               Berly Chain  NaN 2019-05-26 20:55:29+00:00   \n",
       "21                                    halfin  NaN 2009-01-11 03:33:52+00:00   \n",
       "..                                       ...  ...                       ...   \n",
       "690                              Calvin Ayre  NaN 2019-05-10 11:22:26+00:00   \n",
       "693  Golden Farm Giveaways & Make Money Game  NaN 2019-05-27 07:54:58+00:00   \n",
       "694                                  CCN.com  NaN 2019-05-26 20:10:27+00:00   \n",
       "714                 Blockchain Barrister⚡️🇬🇧  NaN 2019-05-26 15:53:44+00:00   \n",
       "715                            Ti Kawamoto⚡🎉  NaN 2019-05-27 02:50:53+00:00   \n",
       "\n",
       "     replies    likes  retweets  \\\n",
       "11      47.0     81.0      84.0   \n",
       "14       5.0    167.0      68.0   \n",
       "19      14.0     40.0      39.0   \n",
       "20       1.0     28.0       4.0   \n",
       "21     790.0  14470.0    5542.0   \n",
       "..       ...      ...       ...   \n",
       "690     24.0     81.0      12.0   \n",
       "693     48.0     54.0      59.0   \n",
       "694     26.0    761.0     290.0   \n",
       "714      3.0     65.0      48.0   \n",
       "715     17.0    208.0      34.0   \n",
       "\n",
       "                                                  text     language  \\\n",
       "11   BTC IS STILL GOING STRONG!!\\n\\nThus, we are gi...  __label__en   \n",
       "14   Bitcoin Price Hits $8,939 in New 2019 High: Wh...  __label__en   \n",
       "19   BTC IS GOING CRAZYYY!\\n\\nThus, we are giving a...  __label__en   \n",
       "20   $HOT $HOT $HOT 🍀\\n\\n🚀🚀🚀🚀🚀\\n\\n🔥🔥🔥🔥🔥 https://t.c...  __label__en   \n",
       "21                                     Running bitcoin  __label__en   \n",
       "..                                                 ...          ...   \n",
       "690  hahaha....here is my view of the industry for ...  __label__en   \n",
       "693  💸[BTC] Bitcoin Giveaway 1.5 Bitcoin\\nName: Bit...  __label__en   \n",
       "694  Bitcoin Price Slays $8750, Hits 12-Month High ...  __label__en   \n",
       "714  People like Vayes completely ignore the facts....  __label__en   \n",
       "715  $100k in 2019 is still in play #citadellife\\n\\...  __label__en   \n",
       "\n",
       "     probability sentiment  \n",
       "11      0.589066  positive  \n",
       "14      0.627685   neutral  \n",
       "19      0.623620   neutral  \n",
       "20      0.832325   neutral  \n",
       "21      0.276370   neutral  \n",
       "..           ...       ...  \n",
       "690     0.844503   neutral  \n",
       "693     0.538141   neutral  \n",
       "694     0.539955   neutral  \n",
       "714     0.872216   neutral  \n",
       "715     0.721943   neutral  \n",
       "\n",
       "[100 rows x 12 columns]"
      ]
     },
     "execution_count": 42,
     "metadata": {},
     "output_type": "execute_result"
    }
   ],
   "source": [
    "df2.head(100)"
   ]
  },
  {
   "cell_type": "code",
   "execution_count": 43,
   "metadata": {},
   "outputs": [],
   "source": [
    "df2.to_csv('../tweets_20likes_eng_processed.csv', index=False)"
   ]
  },
  {
   "cell_type": "code",
   "execution_count": 44,
   "metadata": {},
   "outputs": [
    {
     "name": "stderr",
     "output_type": "stream",
     "text": [
      "<ipython-input-44-98040d6a5bf4>:1: SettingWithCopyWarning: \n",
      "A value is trying to be set on a copy of a slice from a DataFrame.\n",
      "Try using .loc[row_indexer,col_indexer] = value instead\n",
      "\n",
      "See the caveats in the documentation: https://pandas.pydata.org/pandas-docs/stable/user_guide/indexing.html#returning-a-view-versus-a-copy\n",
      "  df2['neutral'] = (df2['sentiment'] == 'neutral').astype(int)\n",
      "<ipython-input-44-98040d6a5bf4>:2: SettingWithCopyWarning: \n",
      "A value is trying to be set on a copy of a slice from a DataFrame.\n",
      "Try using .loc[row_indexer,col_indexer] = value instead\n",
      "\n",
      "See the caveats in the documentation: https://pandas.pydata.org/pandas-docs/stable/user_guide/indexing.html#returning-a-view-versus-a-copy\n",
      "  df2['positive'] = (df2['sentiment'] == 'positive').astype(int)\n",
      "<ipython-input-44-98040d6a5bf4>:3: SettingWithCopyWarning: \n",
      "A value is trying to be set on a copy of a slice from a DataFrame.\n",
      "Try using .loc[row_indexer,col_indexer] = value instead\n",
      "\n",
      "See the caveats in the documentation: https://pandas.pydata.org/pandas-docs/stable/user_guide/indexing.html#returning-a-view-versus-a-copy\n",
      "  df2['negative'] = (df2['sentiment'] == 'negative').astype(int)\n"
     ]
    },
    {
     "data": {
      "text/plain": [
       "neutral     200760\n",
       "positive     23811\n",
       "negative      5743\n",
       "Name: sentiment, dtype: int64"
      ]
     },
     "execution_count": 44,
     "metadata": {},
     "output_type": "execute_result"
    }
   ],
   "source": [
    "df2['neutral'] = (df2['sentiment'] == 'neutral').astype(int)\n",
    "df2['positive'] = (df2['sentiment'] == 'positive').astype(int)\n",
    "df2['negative'] = (df2['sentiment'] == 'negative').astype(int)\n",
    "df2['sentiment'].value_counts()"
   ]
  },
  {
   "cell_type": "code",
   "execution_count": 45,
   "metadata": {},
   "outputs": [
    {
     "name": "stderr",
     "output_type": "stream",
     "text": [
      "<ipython-input-45-b2f77548a316>:1: SettingWithCopyWarning: \n",
      "A value is trying to be set on a copy of a slice from a DataFrame.\n",
      "Try using .loc[row_indexer,col_indexer] = value instead\n",
      "\n",
      "See the caveats in the documentation: https://pandas.pydata.org/pandas-docs/stable/user_guide/indexing.html#returning-a-view-versus-a-copy\n",
      "  df2['date'] = pd.to_datetime(df2['timestamp']).dt.date\n"
     ]
    },
    {
     "data": {
      "text/html": [
       "<div>\n",
       "<style scoped>\n",
       "    .dataframe tbody tr th:only-of-type {\n",
       "        vertical-align: middle;\n",
       "    }\n",
       "\n",
       "    .dataframe tbody tr th {\n",
       "        vertical-align: top;\n",
       "    }\n",
       "\n",
       "    .dataframe thead th {\n",
       "        text-align: right;\n",
       "    }\n",
       "</style>\n",
       "<table border=\"1\" class=\"dataframe\">\n",
       "  <thead>\n",
       "    <tr style=\"text-align: right;\">\n",
       "      <th></th>\n",
       "      <th>date</th>\n",
       "      <th>neutral</th>\n",
       "      <th>positive</th>\n",
       "      <th>negative</th>\n",
       "    </tr>\n",
       "  </thead>\n",
       "  <tbody>\n",
       "    <tr>\n",
       "      <th>0</th>\n",
       "      <td>2009-01-11</td>\n",
       "      <td>1</td>\n",
       "      <td>0</td>\n",
       "      <td>0</td>\n",
       "    </tr>\n",
       "    <tr>\n",
       "      <th>1</th>\n",
       "      <td>2009-01-21</td>\n",
       "      <td>1</td>\n",
       "      <td>0</td>\n",
       "      <td>0</td>\n",
       "    </tr>\n",
       "    <tr>\n",
       "      <th>2</th>\n",
       "      <td>2009-01-27</td>\n",
       "      <td>1</td>\n",
       "      <td>0</td>\n",
       "      <td>0</td>\n",
       "    </tr>\n",
       "    <tr>\n",
       "      <th>3</th>\n",
       "      <td>2009-01-29</td>\n",
       "      <td>1</td>\n",
       "      <td>0</td>\n",
       "      <td>0</td>\n",
       "    </tr>\n",
       "    <tr>\n",
       "      <th>4</th>\n",
       "      <td>2009-02-18</td>\n",
       "      <td>1</td>\n",
       "      <td>0</td>\n",
       "      <td>0</td>\n",
       "    </tr>\n",
       "    <tr>\n",
       "      <th>...</th>\n",
       "      <td>...</td>\n",
       "      <td>...</td>\n",
       "      <td>...</td>\n",
       "      <td>...</td>\n",
       "    </tr>\n",
       "    <tr>\n",
       "      <th>1547</th>\n",
       "      <td>2019-11-19</td>\n",
       "      <td>679</td>\n",
       "      <td>66</td>\n",
       "      <td>19</td>\n",
       "    </tr>\n",
       "    <tr>\n",
       "      <th>1548</th>\n",
       "      <td>2019-11-20</td>\n",
       "      <td>669</td>\n",
       "      <td>86</td>\n",
       "      <td>17</td>\n",
       "    </tr>\n",
       "    <tr>\n",
       "      <th>1549</th>\n",
       "      <td>2019-11-21</td>\n",
       "      <td>775</td>\n",
       "      <td>86</td>\n",
       "      <td>26</td>\n",
       "    </tr>\n",
       "    <tr>\n",
       "      <th>1550</th>\n",
       "      <td>2019-11-22</td>\n",
       "      <td>817</td>\n",
       "      <td>80</td>\n",
       "      <td>41</td>\n",
       "    </tr>\n",
       "    <tr>\n",
       "      <th>1551</th>\n",
       "      <td>2019-11-23</td>\n",
       "      <td>185</td>\n",
       "      <td>24</td>\n",
       "      <td>8</td>\n",
       "    </tr>\n",
       "  </tbody>\n",
       "</table>\n",
       "<p>1552 rows × 4 columns</p>\n",
       "</div>"
      ],
      "text/plain": [
       "            date  neutral  positive  negative\n",
       "0     2009-01-11        1         0         0\n",
       "1     2009-01-21        1         0         0\n",
       "2     2009-01-27        1         0         0\n",
       "3     2009-01-29        1         0         0\n",
       "4     2009-02-18        1         0         0\n",
       "...          ...      ...       ...       ...\n",
       "1547  2019-11-19      679        66        19\n",
       "1548  2019-11-20      669        86        17\n",
       "1549  2019-11-21      775        86        26\n",
       "1550  2019-11-22      817        80        41\n",
       "1551  2019-11-23      185        24         8\n",
       "\n",
       "[1552 rows x 4 columns]"
      ]
     },
     "execution_count": 45,
     "metadata": {},
     "output_type": "execute_result"
    }
   ],
   "source": [
    "df2['date'] = pd.to_datetime(df2['timestamp']).dt.date\n",
    "final = df2[['date', 'neutral', 'positive', 'negative']].groupby('date').sum().reset_index()\n",
    "final"
   ]
  },
  {
   "cell_type": "code",
   "execution_count": 46,
   "metadata": {},
   "outputs": [],
   "source": [
    "final.to_csv('../sentiment_count_20likes_eng.csv', index=False)"
   ]
  },
  {
   "cell_type": "code",
   "execution_count": null,
   "metadata": {},
   "outputs": [],
   "source": []
  },
  {
   "cell_type": "code",
   "execution_count": null,
   "metadata": {},
   "outputs": [],
   "source": []
  }
 ],
 "metadata": {
  "kernelspec": {
   "display_name": "Python 3",
   "language": "python",
   "name": "python3"
  },
  "language_info": {
   "codemirror_mode": {
    "name": "ipython",
    "version": 3
   },
   "file_extension": ".py",
   "mimetype": "text/x-python",
   "name": "python",
   "nbconvert_exporter": "python",
   "pygments_lexer": "ipython3",
   "version": "3.8.5"
  }
 },
 "nbformat": 4,
 "nbformat_minor": 5
}
